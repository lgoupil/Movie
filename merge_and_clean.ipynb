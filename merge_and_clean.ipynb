{
 "cells": [
  {
   "cell_type": "markdown",
   "source": [
    "# This Notebook is used to exclude non-papers from database search export and merge database results between PubMed and Web Of Science\n",
    "\n",
    "Required packages:\n",
    "Python == 3.12.0\n",
    "pandas == 2.1.2\n",
    "jupyter == 1.0.0\n",
    "xlrd == 2.0.1"
   ],
   "metadata": {
    "collapsed": false
   },
   "id": "7c0fd1b21a28cff5"
  },
  {
   "cell_type": "code",
   "execution_count": 32,
   "outputs": [],
   "source": [
    "import pandas as pd\n",
    "import numpy as np\n",
    "PM_path = \"Z:/Literature Review/Queries exports/raw/27-10-2023/PM_1_271023.csv\"    # PubMed's results have to be exported in csv format.\n",
    "WoS_path = \"Z:/Literature Review/Queries exports/raw/27-10-2023/WoS_1_271023.xls\"  # Web of Science results must be exported in Excel format."
   ],
   "metadata": {
    "collapsed": false,
    "ExecuteTime": {
     "end_time": "2023-11-10T08:26:53.661607900Z",
     "start_time": "2023-11-10T08:26:53.481608500Z"
    }
   },
   "id": "initial_id"
  },
  {
   "cell_type": "code",
   "execution_count": 30,
   "outputs": [],
   "source": [
    "PM_1 = pd.read_csv(PM_path)\n",
    "PM_1    # Inspect PM dataframe"
   ],
   "metadata": {
    "collapsed": false,
    "ExecuteTime": {
     "end_time": "2023-11-10T08:23:32.024922900Z",
     "start_time": "2023-11-10T08:23:31.990942700Z"
    }
   },
   "id": "9f5333752cee73e7"
  },
  {
   "cell_type": "code",
   "execution_count": 33,
   "outputs": [
    {
     "data": {
      "text/plain": "    Publication Type                                            Authors  \\\n0                  J  Lankinen, Kaisu; Saari, Jukka; Hlushchuk, Yevh...   \n1                  J  Liu, Xingyu; Dai, Yuxuan; Xie, Hailun; Zhen, Z...   \n2                  J  Bonmassar, G; Schwartz, DP; Liu, AK; Kwong, KK...   \n3                  J  Eickhoff, Simon B.; Milham, Michael; Vanderwal...   \n5                  J  Stroman, Patrick W.; Coe, Brian C.; Munoz, Dou...   \n..               ...                                                ...   \n313                J              Tan, Chenhao; Liu, Xin; Zhang, Gaoyan   \n314                J  Symonds, Renee M.; Zhou, Juin W.; Cole, Sally ...   \n315                J  Franssen, Sieske; Jansen, Anita; van den Hurk,...   \n316                J                Alain, C; Schuler, BM; McDonald, KL   \n317                J                                    Shimada, Sotaro   \n\n     Book Authors Group Authors Book Group Authors  \\\n0             NaN           NaN                NaN   \n1             NaN           NaN                NaN   \n2             NaN           NaN                NaN   \n3             NaN           NaN                NaN   \n5             NaN           NaN                NaN   \n..            ...           ...                ...   \n313           NaN           NaN                NaN   \n314           NaN           NaN                NaN   \n315           NaN           NaN                NaN   \n316           NaN           NaN                NaN   \n317           NaN           NaN                NaN   \n\n                                        Researcher Ids  \\\n0    Parkkonen, Lauri/G-6755-2012; Lankinen, Kaisu ...   \n1                          Zhen, Zonglei/GPG-1239-2022   \n2    Liu, Alan King Lun/A-2210-2015; anand, amit/A-...   \n3    Vanderwal, Tamara/AAS-4214-2021; Eickhoff, Sim...   \n5                                                  NaN   \n..                                                 ...   \n313                                                NaN   \n314                                                NaN   \n315                                                NaN   \n316                                                NaN   \n317                      Shimada, Sotaro/AAC-2484-2019   \n\n                                                ORCIDs Book Editors  \\\n0    Parkkonen, Lauri/0000-0002-0130-0801; Lankinen...          NaN   \n1                      Liu, Xingyu/0000-0002-4386-2140          NaN   \n2    Liu, Alan King Lun/0000-0001-6109-1338; Kwong,...          NaN   \n3    Eickhoff, Simon B./0000-0001-6363-2759; Vander...          NaN   \n5    Coe, Brian/0000-0002-3985-0163; Stroman, Patri...          NaN   \n..                                                 ...          ...   \n313                  Zhang, Gaoyan/0000-0001-5189-9229          NaN   \n314  Cole, Sally/0000-0002-7660-2732; Sussman, Elys...          NaN   \n315  Roefs, Anne/0000-0002-9935-1075; Jansen, Anita...          NaN   \n316                                                NaN          NaN   \n317                                                NaN          NaN   \n\n     Author - Arabic                                      Article Title  ...  \\\n0                NaN  Consistency and similarity of MEG- and fMRI-si...  ...   \n1                NaN  A studyforrest extension, MEG recordings while...  ...   \n2                NaN  Spatiotemporal brain imaging of visual-evoked ...  ...   \n3                NaN        Towards clinical applications of movie fMRI  ...   \n5                NaN  Influence of attention focus on neural activit...  ...   \n..               ...                                                ...  ...   \n313              NaN  Inferring Brain State Dynamics Underlying Natu...  ...   \n314              NaN  Cognitive resources are distributed among the ...  ...   \n315              NaN  Effects of mindset on hormonal responding, neu...  ...   \n316              NaN  Neural activity associated with distinguishing...  ...   \n317              NaN  Modulation of Motor Area Activity by the Outco...  ...   \n\n     Copyright  Degree Name Institution Address  Institution  \\\n0          NaN          NaN                 NaN          NaN   \n1          NaN          NaN                 NaN          NaN   \n2          NaN          NaN                 NaN          NaN   \n3          NaN          NaN                 NaN          NaN   \n5          NaN          NaN                 NaN          NaN   \n..         ...          ...                 ...          ...   \n313        NaN          NaN                 NaN          NaN   \n314        NaN          NaN                 NaN          NaN   \n315        NaN          NaN                 NaN          NaN   \n316        NaN          NaN                 NaN          NaN   \n317        NaN          NaN                 NaN          NaN   \n\n    Dissertation and Thesis Subjects Author Keywords  Indexed Date  \\\n0                                NaN             NaN    2018-12-28   \n1                                NaN             NaN    2022-05-25   \n2                                NaN             NaN    2001-06-01   \n3                                NaN             NaN    2020-08-15   \n5                                NaN             NaN    2011-01-01   \n..                               ...             ...           ...   \n313                              NaN             NaN    2022-03-21   \n314                              NaN             NaN    2020-02-03   \n315                              NaN             NaN    2022-07-15   \n316                              NaN             NaN    2002-02-01   \n317                              NaN             NaN    2009-11-25   \n\n          UT (Unique ID)   Pubmed Id Unnamed: 73  \n0    WOS:000430366000030  29486325.0         NaN  \n1    WOS:000795513500002  35562378.0         NaN  \n2    WOS:000169056500009  11352609.0         NaN  \n3    WOS:000542369500007  32376301.0         NaN  \n5    WOS:000285570100002  20850240.0         NaN  \n..                   ...         ...         ...  \n313  WOS:000764450400001  35244856.0         NaN  \n314  WOS:000509324600002  31578762.0         NaN  \n315  WOS:000820529200006  35182553.0         NaN  \n316  WOS:000173784900036  11863201.0         NaN  \n317  WOS:000272827800021  19946372.0         NaN  \n\n[269 rows x 74 columns]",
      "text/html": "<div>\n<style scoped>\n    .dataframe tbody tr th:only-of-type {\n        vertical-align: middle;\n    }\n\n    .dataframe tbody tr th {\n        vertical-align: top;\n    }\n\n    .dataframe thead th {\n        text-align: right;\n    }\n</style>\n<table border=\"1\" class=\"dataframe\">\n  <thead>\n    <tr style=\"text-align: right;\">\n      <th></th>\n      <th>Publication Type</th>\n      <th>Authors</th>\n      <th>Book Authors</th>\n      <th>Group Authors</th>\n      <th>Book Group Authors</th>\n      <th>Researcher Ids</th>\n      <th>ORCIDs</th>\n      <th>Book Editors</th>\n      <th>Author - Arabic</th>\n      <th>Article Title</th>\n      <th>...</th>\n      <th>Copyright</th>\n      <th>Degree Name</th>\n      <th>Institution Address</th>\n      <th>Institution</th>\n      <th>Dissertation and Thesis Subjects</th>\n      <th>Author Keywords</th>\n      <th>Indexed Date</th>\n      <th>UT (Unique ID)</th>\n      <th>Pubmed Id</th>\n      <th>Unnamed: 73</th>\n    </tr>\n  </thead>\n  <tbody>\n    <tr>\n      <th>0</th>\n      <td>J</td>\n      <td>Lankinen, Kaisu; Saari, Jukka; Hlushchuk, Yevh...</td>\n      <td>NaN</td>\n      <td>NaN</td>\n      <td>NaN</td>\n      <td>Parkkonen, Lauri/G-6755-2012; Lankinen, Kaisu ...</td>\n      <td>Parkkonen, Lauri/0000-0002-0130-0801; Lankinen...</td>\n      <td>NaN</td>\n      <td>NaN</td>\n      <td>Consistency and similarity of MEG- and fMRI-si...</td>\n      <td>...</td>\n      <td>NaN</td>\n      <td>NaN</td>\n      <td>NaN</td>\n      <td>NaN</td>\n      <td>NaN</td>\n      <td>NaN</td>\n      <td>2018-12-28</td>\n      <td>WOS:000430366000030</td>\n      <td>29486325.0</td>\n      <td>NaN</td>\n    </tr>\n    <tr>\n      <th>1</th>\n      <td>J</td>\n      <td>Liu, Xingyu; Dai, Yuxuan; Xie, Hailun; Zhen, Z...</td>\n      <td>NaN</td>\n      <td>NaN</td>\n      <td>NaN</td>\n      <td>Zhen, Zonglei/GPG-1239-2022</td>\n      <td>Liu, Xingyu/0000-0002-4386-2140</td>\n      <td>NaN</td>\n      <td>NaN</td>\n      <td>A studyforrest extension, MEG recordings while...</td>\n      <td>...</td>\n      <td>NaN</td>\n      <td>NaN</td>\n      <td>NaN</td>\n      <td>NaN</td>\n      <td>NaN</td>\n      <td>NaN</td>\n      <td>2022-05-25</td>\n      <td>WOS:000795513500002</td>\n      <td>35562378.0</td>\n      <td>NaN</td>\n    </tr>\n    <tr>\n      <th>2</th>\n      <td>J</td>\n      <td>Bonmassar, G; Schwartz, DP; Liu, AK; Kwong, KK...</td>\n      <td>NaN</td>\n      <td>NaN</td>\n      <td>NaN</td>\n      <td>Liu, Alan King Lun/A-2210-2015; anand, amit/A-...</td>\n      <td>Liu, Alan King Lun/0000-0001-6109-1338; Kwong,...</td>\n      <td>NaN</td>\n      <td>NaN</td>\n      <td>Spatiotemporal brain imaging of visual-evoked ...</td>\n      <td>...</td>\n      <td>NaN</td>\n      <td>NaN</td>\n      <td>NaN</td>\n      <td>NaN</td>\n      <td>NaN</td>\n      <td>NaN</td>\n      <td>2001-06-01</td>\n      <td>WOS:000169056500009</td>\n      <td>11352609.0</td>\n      <td>NaN</td>\n    </tr>\n    <tr>\n      <th>3</th>\n      <td>J</td>\n      <td>Eickhoff, Simon B.; Milham, Michael; Vanderwal...</td>\n      <td>NaN</td>\n      <td>NaN</td>\n      <td>NaN</td>\n      <td>Vanderwal, Tamara/AAS-4214-2021; Eickhoff, Sim...</td>\n      <td>Eickhoff, Simon B./0000-0001-6363-2759; Vander...</td>\n      <td>NaN</td>\n      <td>NaN</td>\n      <td>Towards clinical applications of movie fMRI</td>\n      <td>...</td>\n      <td>NaN</td>\n      <td>NaN</td>\n      <td>NaN</td>\n      <td>NaN</td>\n      <td>NaN</td>\n      <td>NaN</td>\n      <td>2020-08-15</td>\n      <td>WOS:000542369500007</td>\n      <td>32376301.0</td>\n      <td>NaN</td>\n    </tr>\n    <tr>\n      <th>5</th>\n      <td>J</td>\n      <td>Stroman, Patrick W.; Coe, Brian C.; Munoz, Dou...</td>\n      <td>NaN</td>\n      <td>NaN</td>\n      <td>NaN</td>\n      <td>NaN</td>\n      <td>Coe, Brian/0000-0002-3985-0163; Stroman, Patri...</td>\n      <td>NaN</td>\n      <td>NaN</td>\n      <td>Influence of attention focus on neural activit...</td>\n      <td>...</td>\n      <td>NaN</td>\n      <td>NaN</td>\n      <td>NaN</td>\n      <td>NaN</td>\n      <td>NaN</td>\n      <td>NaN</td>\n      <td>2011-01-01</td>\n      <td>WOS:000285570100002</td>\n      <td>20850240.0</td>\n      <td>NaN</td>\n    </tr>\n    <tr>\n      <th>...</th>\n      <td>...</td>\n      <td>...</td>\n      <td>...</td>\n      <td>...</td>\n      <td>...</td>\n      <td>...</td>\n      <td>...</td>\n      <td>...</td>\n      <td>...</td>\n      <td>...</td>\n      <td>...</td>\n      <td>...</td>\n      <td>...</td>\n      <td>...</td>\n      <td>...</td>\n      <td>...</td>\n      <td>...</td>\n      <td>...</td>\n      <td>...</td>\n      <td>...</td>\n      <td>...</td>\n    </tr>\n    <tr>\n      <th>313</th>\n      <td>J</td>\n      <td>Tan, Chenhao; Liu, Xin; Zhang, Gaoyan</td>\n      <td>NaN</td>\n      <td>NaN</td>\n      <td>NaN</td>\n      <td>NaN</td>\n      <td>Zhang, Gaoyan/0000-0001-5189-9229</td>\n      <td>NaN</td>\n      <td>NaN</td>\n      <td>Inferring Brain State Dynamics Underlying Natu...</td>\n      <td>...</td>\n      <td>NaN</td>\n      <td>NaN</td>\n      <td>NaN</td>\n      <td>NaN</td>\n      <td>NaN</td>\n      <td>NaN</td>\n      <td>2022-03-21</td>\n      <td>WOS:000764450400001</td>\n      <td>35244856.0</td>\n      <td>NaN</td>\n    </tr>\n    <tr>\n      <th>314</th>\n      <td>J</td>\n      <td>Symonds, Renee M.; Zhou, Juin W.; Cole, Sally ...</td>\n      <td>NaN</td>\n      <td>NaN</td>\n      <td>NaN</td>\n      <td>NaN</td>\n      <td>Cole, Sally/0000-0002-7660-2732; Sussman, Elys...</td>\n      <td>NaN</td>\n      <td>NaN</td>\n      <td>Cognitive resources are distributed among the ...</td>\n      <td>...</td>\n      <td>NaN</td>\n      <td>NaN</td>\n      <td>NaN</td>\n      <td>NaN</td>\n      <td>NaN</td>\n      <td>NaN</td>\n      <td>2020-02-03</td>\n      <td>WOS:000509324600002</td>\n      <td>31578762.0</td>\n      <td>NaN</td>\n    </tr>\n    <tr>\n      <th>315</th>\n      <td>J</td>\n      <td>Franssen, Sieske; Jansen, Anita; van den Hurk,...</td>\n      <td>NaN</td>\n      <td>NaN</td>\n      <td>NaN</td>\n      <td>NaN</td>\n      <td>Roefs, Anne/0000-0002-9935-1075; Jansen, Anita...</td>\n      <td>NaN</td>\n      <td>NaN</td>\n      <td>Effects of mindset on hormonal responding, neu...</td>\n      <td>...</td>\n      <td>NaN</td>\n      <td>NaN</td>\n      <td>NaN</td>\n      <td>NaN</td>\n      <td>NaN</td>\n      <td>NaN</td>\n      <td>2022-07-15</td>\n      <td>WOS:000820529200006</td>\n      <td>35182553.0</td>\n      <td>NaN</td>\n    </tr>\n    <tr>\n      <th>316</th>\n      <td>J</td>\n      <td>Alain, C; Schuler, BM; McDonald, KL</td>\n      <td>NaN</td>\n      <td>NaN</td>\n      <td>NaN</td>\n      <td>NaN</td>\n      <td>NaN</td>\n      <td>NaN</td>\n      <td>NaN</td>\n      <td>Neural activity associated with distinguishing...</td>\n      <td>...</td>\n      <td>NaN</td>\n      <td>NaN</td>\n      <td>NaN</td>\n      <td>NaN</td>\n      <td>NaN</td>\n      <td>NaN</td>\n      <td>2002-02-01</td>\n      <td>WOS:000173784900036</td>\n      <td>11863201.0</td>\n      <td>NaN</td>\n    </tr>\n    <tr>\n      <th>317</th>\n      <td>J</td>\n      <td>Shimada, Sotaro</td>\n      <td>NaN</td>\n      <td>NaN</td>\n      <td>NaN</td>\n      <td>Shimada, Sotaro/AAC-2484-2019</td>\n      <td>NaN</td>\n      <td>NaN</td>\n      <td>NaN</td>\n      <td>Modulation of Motor Area Activity by the Outco...</td>\n      <td>...</td>\n      <td>NaN</td>\n      <td>NaN</td>\n      <td>NaN</td>\n      <td>NaN</td>\n      <td>NaN</td>\n      <td>NaN</td>\n      <td>2009-11-25</td>\n      <td>WOS:000272827800021</td>\n      <td>19946372.0</td>\n      <td>NaN</td>\n    </tr>\n  </tbody>\n</table>\n<p>269 rows × 74 columns</p>\n</div>"
     },
     "execution_count": 33,
     "metadata": {},
     "output_type": "execute_result"
    }
   ],
   "source": [
    "WoS_1 = pd.read_excel(WoS_path)\n",
    "WoS_1   # Inspect Web Of Science dataframe"
   ],
   "metadata": {
    "collapsed": false,
    "ExecuteTime": {
     "end_time": "2023-11-10T08:26:55.034304600Z",
     "start_time": "2023-11-10T08:26:54.998313300Z"
    }
   },
   "id": "f317ab398ad76a97"
  },
  {
   "cell_type": "markdown",
   "source": [],
   "metadata": {
    "collapsed": false
   },
   "id": "45305b3480ec8c30"
  },
  {
   "cell_type": "code",
   "execution_count": 34,
   "outputs": [
    {
     "data": {
      "text/plain": "                                                 Title  \\\n0    Prediction of individual brain age using movie...   \n1    Neural envelope tracking predicts speech intel...   \n2    Theta EEG neurofeedback promotes early consoli...   \n3    Arousal modulates the amygdala-insula reciproc...   \n4    Individual differences in time-varying and sta...   \n..                                                 ...   \n434  Spontaneous eye movements during eyes-open res...   \n437  Inferring Brain State Dynamics Underlying Natu...   \n438  Cognitive resources are distributed among the ...   \n440  Neural activity associated with distinguishing...   \n441  Modulation of Motor Area Activity by the Outco...   \n\n                                               Authors  \\\n0                                Bi S, Guan Y, Tian L.   \n1    Van Hirtum T, Somers B, Dieudonné B, Verschuer...   \n2    Rozengurt R, Kuznietsov I, Kachynska T, Kozach...   \n3    Wang L, Hu X, Ren Y, Lv J, Zhao S, Guo L, Liu ...   \n4                     Di X, Xu T, Uddin LQ, Biswal BB.   \n..                                                 ...   \n434  Koba, Cemal; Notaro, Giuseppe; Tamm, Sandra; N...   \n437              Tan, Chenhao; Liu, Xin; Zhang, Gaoyan   \n438  Symonds, Renee M.; Zhou, Juin W.; Cole, Sally ...   \n440                Alain, C; Schuler, BM; McDonald, KL   \n441                                    Shimada, Sotaro   \n\n                                  DOI        PMID  \n0              10.1093/cercor/bhad407  37885127.0  \n1        10.1016/j.heares.2023.108893  37806102.0  \n2          10.3758/s13415-023-01125-0  37752389.0  \n3    10.1016/j.neuroimage.2023.120316  37562718.0  \n4           10.1016/j.dcn.2023.101280  37480715.0  \n..                                ...         ...  \n434              10.1162/netn_a_00186  34189373.0  \n437        10.1007/s12021-022-09568-5  35244856.0  \n438                10.1111/psyp.13487  31578762.0  \n440                 10.1121/1.1434942  11863201.0  \n441      10.1371/journal.pone.0008034  19946372.0  \n\n[271 rows x 4 columns]",
      "text/html": "<div>\n<style scoped>\n    .dataframe tbody tr th:only-of-type {\n        vertical-align: middle;\n    }\n\n    .dataframe tbody tr th {\n        vertical-align: top;\n    }\n\n    .dataframe thead th {\n        text-align: right;\n    }\n</style>\n<table border=\"1\" class=\"dataframe\">\n  <thead>\n    <tr style=\"text-align: right;\">\n      <th></th>\n      <th>Title</th>\n      <th>Authors</th>\n      <th>DOI</th>\n      <th>PMID</th>\n    </tr>\n  </thead>\n  <tbody>\n    <tr>\n      <th>0</th>\n      <td>Prediction of individual brain age using movie...</td>\n      <td>Bi S, Guan Y, Tian L.</td>\n      <td>10.1093/cercor/bhad407</td>\n      <td>37885127.0</td>\n    </tr>\n    <tr>\n      <th>1</th>\n      <td>Neural envelope tracking predicts speech intel...</td>\n      <td>Van Hirtum T, Somers B, Dieudonné B, Verschuer...</td>\n      <td>10.1016/j.heares.2023.108893</td>\n      <td>37806102.0</td>\n    </tr>\n    <tr>\n      <th>2</th>\n      <td>Theta EEG neurofeedback promotes early consoli...</td>\n      <td>Rozengurt R, Kuznietsov I, Kachynska T, Kozach...</td>\n      <td>10.3758/s13415-023-01125-0</td>\n      <td>37752389.0</td>\n    </tr>\n    <tr>\n      <th>3</th>\n      <td>Arousal modulates the amygdala-insula reciproc...</td>\n      <td>Wang L, Hu X, Ren Y, Lv J, Zhao S, Guo L, Liu ...</td>\n      <td>10.1016/j.neuroimage.2023.120316</td>\n      <td>37562718.0</td>\n    </tr>\n    <tr>\n      <th>4</th>\n      <td>Individual differences in time-varying and sta...</td>\n      <td>Di X, Xu T, Uddin LQ, Biswal BB.</td>\n      <td>10.1016/j.dcn.2023.101280</td>\n      <td>37480715.0</td>\n    </tr>\n    <tr>\n      <th>...</th>\n      <td>...</td>\n      <td>...</td>\n      <td>...</td>\n      <td>...</td>\n    </tr>\n    <tr>\n      <th>434</th>\n      <td>Spontaneous eye movements during eyes-open res...</td>\n      <td>Koba, Cemal; Notaro, Giuseppe; Tamm, Sandra; N...</td>\n      <td>10.1162/netn_a_00186</td>\n      <td>34189373.0</td>\n    </tr>\n    <tr>\n      <th>437</th>\n      <td>Inferring Brain State Dynamics Underlying Natu...</td>\n      <td>Tan, Chenhao; Liu, Xin; Zhang, Gaoyan</td>\n      <td>10.1007/s12021-022-09568-5</td>\n      <td>35244856.0</td>\n    </tr>\n    <tr>\n      <th>438</th>\n      <td>Cognitive resources are distributed among the ...</td>\n      <td>Symonds, Renee M.; Zhou, Juin W.; Cole, Sally ...</td>\n      <td>10.1111/psyp.13487</td>\n      <td>31578762.0</td>\n    </tr>\n    <tr>\n      <th>440</th>\n      <td>Neural activity associated with distinguishing...</td>\n      <td>Alain, C; Schuler, BM; McDonald, KL</td>\n      <td>10.1121/1.1434942</td>\n      <td>11863201.0</td>\n    </tr>\n    <tr>\n      <th>441</th>\n      <td>Modulation of Motor Area Activity by the Outco...</td>\n      <td>Shimada, Sotaro</td>\n      <td>10.1371/journal.pone.0008034</td>\n      <td>19946372.0</td>\n    </tr>\n  </tbody>\n</table>\n<p>271 rows × 4 columns</p>\n</div>"
     },
     "execution_count": 34,
     "metadata": {},
     "output_type": "execute_result"
    }
   ],
   "source": [
    "# the \"str.contains\" function iteratively looks for the specified string in the string-converted rows of column \"Document Type\". case=False ensures the string is not case-sensitive. the \"|\" acts as a logical \"OR\" to either retain all rows that contain either \"article\" or \"reviews\" since both interest us. na=False ensures that we treat \"NaN\" values as unwanted and are thus excluded. regex=True ensures the specified string is not treated as literal. The \"~\" is the logical exclusion for the following rule.\n",
    "\n",
    "WoS_1_exclude = WoS_1[~WoS_1[\"Document Type\"].str.contains(\"article|review\", case=False, na=False, regex=True)] # excluded papers extracted in another dataframe\n",
    "WoS_1_include = WoS_1[WoS_1[\"Document Type\"].str.contains(\"article|review\", case=False, na=False, regex=True)]  # kept papers extracted in another dataframe\n",
    "WoS_1_exclude   # Visualizing the excluded dataframe\n"
   ],
   "metadata": {
    "collapsed": false,
    "ExecuteTime": {
     "end_time": "2023-11-10T08:26:57.180590300Z",
     "start_time": "2023-11-10T08:26:57.159674300Z"
    }
   },
   "id": "fa68e307500780bc"
  },
  {
   "cell_type": "markdown",
   "source": [
    "Next: merge dataframes from both databases"
   ],
   "metadata": {
    "collapsed": false
   },
   "id": "bdcef04c87b9845a"
  },
  {
   "cell_type": "code",
   "execution_count": null,
   "outputs": [],
   "source": [],
   "metadata": {
    "collapsed": false
   },
   "id": "46a76bc1ccbd9227"
  }
 ],
 "metadata": {
  "kernelspec": {
   "display_name": "Python 3",
   "language": "python",
   "name": "python3"
  },
  "language_info": {
   "codemirror_mode": {
    "name": "ipython",
    "version": 2
   },
   "file_extension": ".py",
   "mimetype": "text/x-python",
   "name": "python",
   "nbconvert_exporter": "python",
   "pygments_lexer": "ipython2",
   "version": "2.7.6"
  }
 },
 "nbformat": 4,
 "nbformat_minor": 5
}
