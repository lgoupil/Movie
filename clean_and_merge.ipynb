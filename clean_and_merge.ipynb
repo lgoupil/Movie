{
 "cells": [
  {
   "cell_type": "markdown",
   "source": [
    "# This Notebook is used to exclude non-papers from database search export and merge database results between PubMed and Web Of Science\n",
    "\n",
    "Required packages:\n",
    "Python == 3.12.0\n",
    "pandas == 2.1.2\n",
    "jupyter == 1.0.0\n",
    "xlrd == 2.0.1"
   ],
   "metadata": {
    "collapsed": false
   },
   "id": "40df9a41899a8944"
  },
  {
   "cell_type": "code",
   "execution_count": null,
   "outputs": [],
   "source": [
    "import pandas as pd\n",
    "import numpy as np\n",
    "PM_path = \"Z:/Literature Review/Queries exports/raw/27-10-2023/PM_1_271023.csv\"    # PubMed's results have to be exported in csv format.\n",
    "WoS_path = \"Z:/Literature Review/Queries exports/raw/27-10-2023/WoS_1_271023.xls\"  # Web of Science results must be exported in Excel format.\n",
    "PM_1 = pd.read_csv(PM_path)\n",
    "#PM_1    # Inspect PM dataframe\n",
    "WoS_1 = pd.read_excel(WoS_path)\n",
    "#WoS_1   # Inspect Web Of Science dataframe"
   ],
   "metadata": {
    "collapsed": false
   },
   "id": "ed74c07dd9da17e3"
  },
  {
   "cell_type": "markdown",
   "source": [
    "### Excluding non-article entries"
   ],
   "metadata": {
    "collapsed": false
   },
   "id": "f7f240a1539bd060"
  },
  {
   "cell_type": "code",
   "execution_count": null,
   "outputs": [],
   "source": [
    "# the \"str.contains\" function iteratively looks for the specified string in the string-converted rows of column \"Document Type\". case=False ensures the string is not case-sensitive. the \"|\" acts as a logical \"OR\" to either retain all rows that contain either \"article\" or \"reviews\" since both interest us. na=False ensures that we treat \"NaN\" values as unwanted and are thus excluded. regex=True ensures the specified string is not treated as literal. The \"~\" is the logical exclusion for the following rule.\n",
    "\n",
    "WoS_1_exclude = WoS_1[~WoS_1[\"Document Type\"].str.contains(\"article|review\", case=False, na=False, regex=True)] # excluded papers extracted in another dataframe\n",
    "WoS_1_include = WoS_1[WoS_1[\"Document Type\"].str.contains(\"article|review\", case=False, na=False, regex=True)]  # kept papers extracted in another dataframe\n",
    "WoS_1_include   # Visualizing the excluded dataframe\n"
   ],
   "metadata": {
    "collapsed": false
   },
   "id": "128a1959dd9fade6"
  },
  {
   "cell_type": "markdown",
   "source": [
    "## Merging both databases to a single dataframe"
   ],
   "metadata": {
    "collapsed": false
   },
   "id": "609704a4e72df46"
  },
  {
   "cell_type": "code",
   "execution_count": null,
   "outputs": [],
   "source": [
    "# the \"concat\" function stacks vertically so that WoS results will be put underneath PM ones. the \"ignore_index=True\" ensures the definition of a new index specific to this dataframe. Otherwise, we would keep the indices from previous dataframes and these could clash.\n",
    "\n",
    "inc_merged = pd.DataFrame()         # Empty dataframe\n",
    "inc_merged[\"Title\"] = pd.concat([PM_1[\"Title\"], WoS_1_include[\"Article Title\"]], ignore_index=True) # Merging title columns\n",
    "inc_merged[\"Authors\"] = pd.concat([PM_1[\"Authors\"], WoS_1_include[\"Authors\"]], ignore_index=True)   # Authors\n",
    "inc_merged[\"DOI\"] = pd.concat([PM_1[\"DOI\"], WoS_1_include[\"DOI\"]], ignore_index=True)               # DOI\n",
    "inc_merged[\"PMID\"] = pd.concat([PM_1[\"PMID\"], WoS_1_include[\"Pubmed Id\"]], ignore_index=True)       # PubMed Id\n",
    "inc_merged = inc_merged.drop_duplicates(subset=\"DOI\")   # Dropping the duplicates in terms of DOI\n",
    "inc_merged  # Inspecting resulting dataframe"
   ],
   "metadata": {
    "collapsed": false
   },
   "id": "457c5c2bd3aec0f1"
  },
  {
   "cell_type": "markdown",
   "source": [
    "## Exporting to PubMed txt format, readable by Zotero\n",
    "To be able to import citations into Zotero (which is able to retrieve pdfs from metadata only), we have to convert our dataframe into a format that is readable by Zotero and that is easily created with Python. As a template, we will take PubMed text export format."
   ],
   "metadata": {
    "collapsed": false
   },
   "id": "34eae8f7ba5cd319"
  },
  {
   "cell_type": "code",
   "execution_count": null,
   "outputs": [],
   "source": [
    "file = open()"
   ],
   "metadata": {
    "collapsed": false
   },
   "id": "46e24d7ba96be1a2"
  }
 ],
 "metadata": {
  "kernelspec": {
   "display_name": "Python 3",
   "language": "python",
   "name": "python3"
  },
  "language_info": {
   "codemirror_mode": {
    "name": "ipython",
    "version": 2
   },
   "file_extension": ".py",
   "mimetype": "text/x-python",
   "name": "python",
   "nbconvert_exporter": "python",
   "pygments_lexer": "ipython2",
   "version": "2.7.6"
  }
 },
 "nbformat": 4,
 "nbformat_minor": 5
}
